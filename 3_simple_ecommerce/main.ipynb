{
 "cells": [
  {
   "cell_type": "code",
   "execution_count": 64,
   "id": "c2b66b6a-d925-48c2-b333-309d77b69952",
   "metadata": {},
   "outputs": [],
   "source": [
    "import matplotlib.pyplot as plt\n",
    "import pandas as pd\n",
    "import os"
   ]
  },
  {
   "cell_type": "code",
   "execution_count": 65,
   "id": "d519f97d-55f0-4b0a-a8c3-7d2409f90191",
   "metadata": {},
   "outputs": [
    {
     "data": {
      "text/plain": [
       "['.ipynb_checkpoints', 'data', 'main.ipynb', 'Описание.txt']"
      ]
     },
     "execution_count": 65,
     "metadata": {},
     "output_type": "execute_result"
    }
   ],
   "source": [
    "path = os.getcwd()\n",
    "os.listdir(path)"
   ]
  },
  {
   "cell_type": "code",
   "execution_count": 74,
   "id": "f02cd806-7fdc-414e-9b40-26529c77b11f",
   "metadata": {},
   "outputs": [],
   "source": [
    "# Create df for all data\n",
    "df = pd.DataFrame()\n",
    "\n",
    "# Read data from all files from all folders and add it to general df\n",
    "for current_path, dirs, files in os.walk(path):\n",
    "    for file in files:\n",
    "        if file.endswith(\"csv\"):\n",
    "            data_path = f\"{current_path}\\{file}\"\n",
    "            temp_df = pd.read_csv(data_path)\n",
    "\n",
    "            path_split_for_parse = current_path.split(\"\\\\\")\n",
    "            \n",
    "            temp_df[\"name\"] = path_split_for_parse[-1]\n",
    "            temp_df[\"date\"] = path_split_for_parse[-2]\n",
    "\n",
    "            df = pd.concat((df, temp_df), axis=0)\n",
    "        "
   ]
  },
  {
   "cell_type": "code",
   "execution_count": 75,
   "id": "efc92228-46ca-4db0-9c65-cb3957ef4d36",
   "metadata": {},
   "outputs": [
    {
     "data": {
      "text/html": [
       "<div>\n",
       "<style scoped>\n",
       "    .dataframe tbody tr th:only-of-type {\n",
       "        vertical-align: middle;\n",
       "    }\n",
       "\n",
       "    .dataframe tbody tr th {\n",
       "        vertical-align: top;\n",
       "    }\n",
       "\n",
       "    .dataframe thead th {\n",
       "        text-align: right;\n",
       "    }\n",
       "</style>\n",
       "<table border=\"1\" class=\"dataframe\">\n",
       "  <thead>\n",
       "    <tr style=\"text-align: right;\">\n",
       "      <th></th>\n",
       "      <th>product_id</th>\n",
       "      <th>quantity</th>\n",
       "      <th>name</th>\n",
       "      <th>date</th>\n",
       "    </tr>\n",
       "  </thead>\n",
       "  <tbody>\n",
       "    <tr>\n",
       "      <th>0</th>\n",
       "      <td>47</td>\n",
       "      <td>1</td>\n",
       "      <td>Alexey_Smirnov</td>\n",
       "      <td>2020-12-03</td>\n",
       "    </tr>\n",
       "    <tr>\n",
       "      <th>1</th>\n",
       "      <td>57</td>\n",
       "      <td>1</td>\n",
       "      <td>Alexey_Smirnov</td>\n",
       "      <td>2020-12-03</td>\n",
       "    </tr>\n",
       "    <tr>\n",
       "      <th>2</th>\n",
       "      <td>14</td>\n",
       "      <td>2</td>\n",
       "      <td>Alexey_Smirnov</td>\n",
       "      <td>2020-12-03</td>\n",
       "    </tr>\n",
       "    <tr>\n",
       "      <th>3</th>\n",
       "      <td>52</td>\n",
       "      <td>1</td>\n",
       "      <td>Alexey_Smirnov</td>\n",
       "      <td>2020-12-03</td>\n",
       "    </tr>\n",
       "    <tr>\n",
       "      <th>4</th>\n",
       "      <td>1</td>\n",
       "      <td>4</td>\n",
       "      <td>Alexey_Smirnov</td>\n",
       "      <td>2020-12-03</td>\n",
       "    </tr>\n",
       "    <tr>\n",
       "      <th>...</th>\n",
       "      <td>...</td>\n",
       "      <td>...</td>\n",
       "      <td>...</td>\n",
       "      <td>...</td>\n",
       "    </tr>\n",
       "    <tr>\n",
       "      <th>156</th>\n",
       "      <td>66</td>\n",
       "      <td>4</td>\n",
       "      <td>Rostislav_Petrov</td>\n",
       "      <td>2020-12-09</td>\n",
       "    </tr>\n",
       "    <tr>\n",
       "      <th>157</th>\n",
       "      <td>39</td>\n",
       "      <td>2</td>\n",
       "      <td>Rostislav_Petrov</td>\n",
       "      <td>2020-12-09</td>\n",
       "    </tr>\n",
       "    <tr>\n",
       "      <th>158</th>\n",
       "      <td>82</td>\n",
       "      <td>4</td>\n",
       "      <td>Vasiliy_Ivanov</td>\n",
       "      <td>2020-12-09</td>\n",
       "    </tr>\n",
       "    <tr>\n",
       "      <th>159</th>\n",
       "      <td>74</td>\n",
       "      <td>2</td>\n",
       "      <td>Vasiliy_Ivanov</td>\n",
       "      <td>2020-12-09</td>\n",
       "    </tr>\n",
       "    <tr>\n",
       "      <th>160</th>\n",
       "      <td>54</td>\n",
       "      <td>3</td>\n",
       "      <td>Vasiliy_Ivanov</td>\n",
       "      <td>2020-12-09</td>\n",
       "    </tr>\n",
       "  </tbody>\n",
       "</table>\n",
       "<p>161 rows × 4 columns</p>\n",
       "</div>"
      ],
      "text/plain": [
       "     product_id  quantity              name       date\n",
       "0            47         1    Alexey_Smirnov 2020-12-03\n",
       "1            57         1    Alexey_Smirnov 2020-12-03\n",
       "2            14         2    Alexey_Smirnov 2020-12-03\n",
       "3            52         1    Alexey_Smirnov 2020-12-03\n",
       "4             1         4    Alexey_Smirnov 2020-12-03\n",
       "..          ...       ...               ...        ...\n",
       "156          66         4  Rostislav_Petrov 2020-12-09\n",
       "157          39         2  Rostislav_Petrov 2020-12-09\n",
       "158          82         4    Vasiliy_Ivanov 2020-12-09\n",
       "159          74         2    Vasiliy_Ivanov 2020-12-09\n",
       "160          54         3    Vasiliy_Ivanov 2020-12-09\n",
       "\n",
       "[161 rows x 4 columns]"
      ]
     },
     "execution_count": 75,
     "metadata": {},
     "output_type": "execute_result"
    }
   ],
   "source": [
    "# Bringing 'df' back to normal\n",
    "\n",
    "df.date = pd.to_datetime(df.date)\n",
    "df.reset_index(drop=True, inplace=True)\n",
    "df.drop(columns=[\"Unnamed: 0\"], inplace=True)\n",
    "\n",
    "df"
   ]
  },
  {
   "cell_type": "code",
   "execution_count": 76,
   "id": "9d817673-9a03-402c-9fe8-087f645e33a7",
   "metadata": {},
   "outputs": [
    {
     "data": {
      "text/plain": [
       "['Alexey_Smirnov', 'Petr_Smirnov']"
      ]
     },
     "execution_count": 76,
     "metadata": {},
     "output_type": "execute_result"
    }
   ],
   "source": [
    "# Выясните, какой пользователь купил больше всего товаров. Если их несколько, то перечислите имена через запятую с пробелом и в алфавитном порядке.\n",
    "\n",
    "customers_by_quantity = df.groupby(\"name\", as_index=False). \\\n",
    "                    agg({\"quantity\": \"sum\"}). \\\n",
    "                    sort_values(\"quantity\", ascending=False)\n",
    "\n",
    "quantity_most_customers = customers_by_quantity.quantity.max()\n",
    "most_customers = customers_by_quantity.query(\"quantity == @quantity_most_customers\"). \\\n",
    "                                        name. \\\n",
    "                                        to_list()\n",
    "most_customers"
   ]
  },
  {
   "cell_type": "code",
   "execution_count": 77,
   "id": "451ea7ad-8424-408e-a7b9-632c870aaf5e",
   "metadata": {},
   "outputs": [
    {
     "data": {
      "image/png": "[encoded data removed]",
      "text/plain": [
       "<Figure size 640x480 with 1 Axes>"
      ]
     },
     "metadata": {},
     "output_type": "display_data"
    }
   ],
   "source": [
    "# Найдите топ-10 товаров по числу проданных единиц за всё время и постройте барплот. \n",
    "# Сколько было продано единиц товара с product_id==56?\n",
    "\n",
    "products_by_quantity = df.groupby(\"product_id\", as_index=False). \\\n",
    "                    agg({\"quantity\": \"sum\"}). \\\n",
    "                    sort_values(\"quantity\", ascending=False)\n",
    "\n",
    "# Построение bar plot\n",
    "plt.bar(products_by_quantity[\"product_id\"], products_by_quantity[\"quantity\"])\n",
    "\n",
    "# Настройка осей и заголовка графика\n",
    "plt.xlabel(\"Product ID\")\n",
    "plt.ylabel(\"Quantity\")\n",
    "plt.title(\"Products by Quantity\")\n",
    "\n",
    "# Отображение графика\n",
    "plt.show()"
   ]
  },
  {
   "cell_type": "code",
   "execution_count": 78,
   "id": "a4904bc6-dbba-489a-974a-7d3195015079",
   "metadata": {},
   "outputs": [
    {
     "data": {
      "image/png": "[encoded data removed]",
      "text/plain": [
       "<Figure size 640x480 with 1 Axes>"
      ]
     },
     "metadata": {},
     "output_type": "display_data"
    }
   ],
   "source": [
    "# Визуализируйте продажи по дням.\n",
    "\n",
    "date_quantity = df.groupby(\"date\", as_index=False). \\\n",
    "                    agg({\"quantity\": \"sum\"}). \\\n",
    "                    sort_values(\"quantity\", ascending=False)\n",
    "\n",
    "# Построение bar plot\n",
    "plt.bar(date_quantity[\"date\"], date_quantity[\"quantity\"])\n",
    "\n",
    "plt.xlabel(\"Date\")\n",
    "plt.ylabel(\"Quantity\")\n",
    "plt.title(\"Date Quantity\")\n",
    "\n",
    "plt.xticks(rotation=45)\n",
    "\n",
    "plt.show()"
   ]
  },
  {
   "cell_type": "code",
   "execution_count": 88,
   "id": "31dcea6a-cea7-442c-b5ef-e47275cb3eae",
   "metadata": {},
   "outputs": [
    {
     "data": {
      "text/plain": [
       "21"
      ]
     },
     "execution_count": 88,
     "metadata": {},
     "output_type": "execute_result"
    }
   ],
   "source": [
    "# Сколько пользователей приобрели какой-либо товар повторно (более 1 раза)? \n",
    "# Повтором будем считать покупку товара с одинаковым product_id, совершенную в разные дни. \n",
    "\n",
    "quantity_more_one_purchase = df.groupby([\"name\", \"product_id\"], as_index=False). \\\n",
    "    agg({\"quantity\" : \"sum\"}). \\\n",
    "    query(\"quantity > 1\")\n",
    "\n",
    "quantity_users_more_one_purchase = len(quantity_more_one_purchase.name.unique())\n",
    "quantity_users_more_one_purchase"
   ]
  },
  {
   "cell_type": "code",
   "execution_count": null,
   "id": "cb5eff31-da8b-44a9-a910-b553500971ac",
   "metadata": {},
   "outputs": [],
   "source": []
  }
 ],
 "metadata": {
  "kernelspec": {
   "display_name": "Python 3 (ipykernel)",
   "language": "python",
   "name": "python3"
  },
  "language_info": {
   "codemirror_mode": {
    "name": "ipython",
    "version": 3
   },
   "file_extension": ".py",
   "mimetype": "text/x-python",
   "name": "python",
   "nbconvert_exporter": "python",
   "pygments_lexer": "ipython3",
   "version": "3.11.4"
  }
 },
 "nbformat": 4,
 "nbformat_minor": 5
}
