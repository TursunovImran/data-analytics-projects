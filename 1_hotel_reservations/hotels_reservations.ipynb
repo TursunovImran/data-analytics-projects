{
 "cells": [
  {
   "cell_type": "code",
   "execution_count": 7,
   "id": "4a17fe96-05fb-48d5-b3e6-f727b248fe10",
   "metadata": {},
   "outputs": [],
   "source": [
    "import pandas as pd\n",
    "import os"
   ]
  },
  {
   "cell_type": "code",
   "execution_count": 8,
   "id": "6af923a1-eb44-4306-bbc6-8aea4ef32b0a",
   "metadata": {},
   "outputs": [
    {
     "data": {
      "text/plain": [
       "['bookings.csv', 'hotels_reservations.ipynb']"
      ]
     },
     "execution_count": 8,
     "metadata": {},
     "output_type": "execute_result"
    }
   ],
   "source": [
    "dir_content = [i for i in os.listdir() if not i.startswith('.')]\n",
    "dir_content"
   ]
  },
  {
   "cell_type": "code",
   "execution_count": 34,
   "id": "fabe617d-e5c7-4e3f-9ffc-6aaf83f0bfdc",
   "metadata": {},
   "outputs": [
    {
     "data": {
      "text/html": [
       "<div>\n",
       "<style scoped>\n",
       "    .dataframe tbody tr th:only-of-type {\n",
       "        vertical-align: middle;\n",
       "    }\n",
       "\n",
       "    .dataframe tbody tr th {\n",
       "        vertical-align: top;\n",
       "    }\n",
       "\n",
       "    .dataframe thead th {\n",
       "        text-align: right;\n",
       "    }\n",
       "</style>\n",
       "<table border=\"1\" class=\"dataframe\">\n",
       "  <thead>\n",
       "    <tr style=\"text-align: right;\">\n",
       "      <th></th>\n",
       "      <th>hotel</th>\n",
       "      <th>is canceled</th>\n",
       "      <th>lead time</th>\n",
       "      <th>arrival full date</th>\n",
       "      <th>arrival date year</th>\n",
       "      <th>arrival date month</th>\n",
       "      <th>arrival date week number</th>\n",
       "      <th>arrival date day of month</th>\n",
       "      <th>stays in weekend nights</th>\n",
       "      <th>stays in week nights</th>\n",
       "      <th>...</th>\n",
       "      <th>adults</th>\n",
       "      <th>children</th>\n",
       "      <th>babies</th>\n",
       "      <th>meal</th>\n",
       "      <th>country</th>\n",
       "      <th>reserved room type</th>\n",
       "      <th>assigned room type</th>\n",
       "      <th>customer type</th>\n",
       "      <th>reservation status</th>\n",
       "      <th>reservation status_date</th>\n",
       "    </tr>\n",
       "  </thead>\n",
       "  <tbody>\n",
       "    <tr>\n",
       "      <th>119385</th>\n",
       "      <td>City Hotel</td>\n",
       "      <td>0</td>\n",
       "      <td>23</td>\n",
       "      <td>2017-08-30</td>\n",
       "      <td>2017</td>\n",
       "      <td>August</td>\n",
       "      <td>35</td>\n",
       "      <td>30</td>\n",
       "      <td>2</td>\n",
       "      <td>5</td>\n",
       "      <td>...</td>\n",
       "      <td>2</td>\n",
       "      <td>0.0</td>\n",
       "      <td>0</td>\n",
       "      <td>BB</td>\n",
       "      <td>BEL</td>\n",
       "      <td>A</td>\n",
       "      <td>A</td>\n",
       "      <td>Transient</td>\n",
       "      <td>Check-Out</td>\n",
       "      <td>2017-09-06</td>\n",
       "    </tr>\n",
       "    <tr>\n",
       "      <th>119386</th>\n",
       "      <td>City Hotel</td>\n",
       "      <td>0</td>\n",
       "      <td>102</td>\n",
       "      <td>2017-08-31</td>\n",
       "      <td>2017</td>\n",
       "      <td>August</td>\n",
       "      <td>35</td>\n",
       "      <td>31</td>\n",
       "      <td>2</td>\n",
       "      <td>5</td>\n",
       "      <td>...</td>\n",
       "      <td>3</td>\n",
       "      <td>0.0</td>\n",
       "      <td>0</td>\n",
       "      <td>BB</td>\n",
       "      <td>FRA</td>\n",
       "      <td>E</td>\n",
       "      <td>E</td>\n",
       "      <td>Transient</td>\n",
       "      <td>Check-Out</td>\n",
       "      <td>2017-09-07</td>\n",
       "    </tr>\n",
       "    <tr>\n",
       "      <th>119387</th>\n",
       "      <td>City Hotel</td>\n",
       "      <td>0</td>\n",
       "      <td>34</td>\n",
       "      <td>2017-08-31</td>\n",
       "      <td>2017</td>\n",
       "      <td>August</td>\n",
       "      <td>35</td>\n",
       "      <td>31</td>\n",
       "      <td>2</td>\n",
       "      <td>5</td>\n",
       "      <td>...</td>\n",
       "      <td>2</td>\n",
       "      <td>0.0</td>\n",
       "      <td>0</td>\n",
       "      <td>BB</td>\n",
       "      <td>DEU</td>\n",
       "      <td>D</td>\n",
       "      <td>D</td>\n",
       "      <td>Transient</td>\n",
       "      <td>Check-Out</td>\n",
       "      <td>2017-09-07</td>\n",
       "    </tr>\n",
       "    <tr>\n",
       "      <th>119388</th>\n",
       "      <td>City Hotel</td>\n",
       "      <td>0</td>\n",
       "      <td>109</td>\n",
       "      <td>2017-08-31</td>\n",
       "      <td>2017</td>\n",
       "      <td>August</td>\n",
       "      <td>35</td>\n",
       "      <td>31</td>\n",
       "      <td>2</td>\n",
       "      <td>5</td>\n",
       "      <td>...</td>\n",
       "      <td>2</td>\n",
       "      <td>0.0</td>\n",
       "      <td>0</td>\n",
       "      <td>BB</td>\n",
       "      <td>GBR</td>\n",
       "      <td>A</td>\n",
       "      <td>A</td>\n",
       "      <td>Transient</td>\n",
       "      <td>Check-Out</td>\n",
       "      <td>2017-09-07</td>\n",
       "    </tr>\n",
       "    <tr>\n",
       "      <th>119389</th>\n",
       "      <td>City Hotel</td>\n",
       "      <td>0</td>\n",
       "      <td>205</td>\n",
       "      <td>2017-08-29</td>\n",
       "      <td>2017</td>\n",
       "      <td>August</td>\n",
       "      <td>35</td>\n",
       "      <td>29</td>\n",
       "      <td>2</td>\n",
       "      <td>7</td>\n",
       "      <td>...</td>\n",
       "      <td>2</td>\n",
       "      <td>0.0</td>\n",
       "      <td>0</td>\n",
       "      <td>HB</td>\n",
       "      <td>DEU</td>\n",
       "      <td>A</td>\n",
       "      <td>A</td>\n",
       "      <td>Transient</td>\n",
       "      <td>Check-Out</td>\n",
       "      <td>2017-09-07</td>\n",
       "    </tr>\n",
       "  </tbody>\n",
       "</table>\n",
       "<p>5 rows × 21 columns</p>\n",
       "</div>"
      ],
      "text/plain": [
       "             hotel  is canceled  lead time arrival full date  \\\n",
       "119385  City Hotel            0         23        2017-08-30   \n",
       "119386  City Hotel            0        102        2017-08-31   \n",
       "119387  City Hotel            0         34        2017-08-31   \n",
       "119388  City Hotel            0        109        2017-08-31   \n",
       "119389  City Hotel            0        205        2017-08-29   \n",
       "\n",
       "        arrival date year arrival date month  arrival date week number  \\\n",
       "119385               2017             August                        35   \n",
       "119386               2017             August                        35   \n",
       "119387               2017             August                        35   \n",
       "119388               2017             August                        35   \n",
       "119389               2017             August                        35   \n",
       "\n",
       "        arrival date day of month  stays in weekend nights  \\\n",
       "119385                         30                        2   \n",
       "119386                         31                        2   \n",
       "119387                         31                        2   \n",
       "119388                         31                        2   \n",
       "119389                         29                        2   \n",
       "\n",
       "        stays in week nights  ...  adults  children  babies  meal country  \\\n",
       "119385                     5  ...       2       0.0       0    BB     BEL   \n",
       "119386                     5  ...       3       0.0       0    BB     FRA   \n",
       "119387                     5  ...       2       0.0       0    BB     DEU   \n",
       "119388                     5  ...       2       0.0       0    BB     GBR   \n",
       "119389                     7  ...       2       0.0       0    HB     DEU   \n",
       "\n",
       "       reserved room type assigned room type customer type reservation status  \\\n",
       "119385                  A                  A     Transient          Check-Out   \n",
       "119386                  E                  E     Transient          Check-Out   \n",
       "119387                  D                  D     Transient          Check-Out   \n",
       "119388                  A                  A     Transient          Check-Out   \n",
       "119389                  A                  A     Transient          Check-Out   \n",
       "\n",
       "       reservation status_date  \n",
       "119385              2017-09-06  \n",
       "119386              2017-09-07  \n",
       "119387              2017-09-07  \n",
       "119388              2017-09-07  \n",
       "119389              2017-09-07  \n",
       "\n",
       "[5 rows x 21 columns]"
      ]
     },
     "execution_count": 34,
     "metadata": {},
     "output_type": "execute_result"
    }
   ],
   "source": [
    "df = pd.read_csv('bookings.csv', sep=';')\n",
    "df.columns = [j.lower() for j in df.columns]\n",
    "df.tail()\n",
    "\n",
    "# Hotel – тип отеля (City Hotel или Resort Hotel)  \n",
    "# Is canceled – бронирование было отменено (1) или нет (0); не отмененное считается успешным\n",
    "# Lead time – количество дней, прошедших между датой бронирования и датой прибытия  \n",
    "# Arrival full date – полная дата прибытия\n",
    "# Arrival date year – год прибытия  \n",
    "# Arrival date month – месяц прибытия  \n",
    "# Arrival date week number – номер недели прибытия\n",
    "# Arrival date day of month – день прибытия\n",
    "# Stays in weekend nights – количество выходных (суббота или воскресенье), которые гость забронировал для проживания в отеле\n",
    "# Stays in week nights – количество дней (с понедельника по пятницу), которые гость забронировал для проживания в отеле\n",
    "# Stays total nights – общее число забронированных ночей (сумма двух предыдущих колонок)\n",
    "# Adults – число взрослых\n",
    "# Children – число детей\n",
    "# Babies – число младенцев \n",
    "# Meal – выбранный тип питания\n",
    "# Country – страна происхождения клиента\n",
    "# Reserved room type – тип зарезервированного номера\n",
    "# Assigned room type – тип полученного номера (может отличаться от забронированного)\n",
    "# Customer type – тип бронирования\n",
    "# Reservation status – значение последнего статуса брони: Canceled - было отменено клиентом; Check-Out - клиент зарегистрировался, но уже покинул отель; No-Show - клиент не зарегистрировался и сообщил администрации отеля причину\n",
    "# Reservation status date – дата обновления статуса"
   ]
  },
  {
   "cell_type": "code",
   "execution_count": 53,
   "id": "e7eaecad-2c04-4207-ba3e-61aa0cef7b01",
   "metadata": {},
   "outputs": [
    {
     "name": "stdout",
     "output_type": "stream",
     "text": [
      "The dataframe change was successful\n"
     ]
    }
   ],
   "source": [
    "all_reservings = df.shape[0]\n",
    "df = df.rename(columns={\"is canceled\": \"is_canceled\", \n",
    "                       \"stays total nights\": \"stays_total_nights\",\n",
    "                       \"reserved room type\": \"reserved_room_type\", \n",
    "                       \"assigned room type\": \"assigned_room_type\",\n",
    "                       \"arrival date month\": \"arrival_date_month\",\n",
    "                       \"arrival date year\": \"arrival_date_year\",\n",
    "                       \"arrival full date\": \"arrival_full_date\"})\n",
    "\n",
    "df.arrival_full_date = pd.to_datetime(df[\"arrival_full_date\"])\n",
    "if all_reservings == df.shape[0]:\n",
    "    print(\"The dataframe change was successful\")"
   ]
  },
  {
   "cell_type": "code",
   "execution_count": 27,
   "id": "dd783493-a487-4e06-93c1-358fd00afbb8",
   "metadata": {},
   "outputs": [
    {
     "data": {
      "text/plain": [
       "country\n",
       "PRT    21071\n",
       "GBR     9676\n",
       "FRA     8481\n",
       "ESP     6391\n",
       "DEU     6069\n",
       "       ...  \n",
       "BHR        1\n",
       "DJI        1\n",
       "MLI        1\n",
       "NPL        1\n",
       "FRO        1\n",
       "Name: count, Length: 165, dtype: int64"
      ]
     },
     "execution_count": 27,
     "metadata": {},
     "output_type": "execute_result"
    }
   ],
   "source": [
    "# Пользователи из каких стран совершили наибольшее число успешных бронирований? Укажите топ-5.\n",
    "countries_with_most_successful_reservings = df.query(\"is_canceled == 0\") \\\n",
    "                                              .country \\\n",
    "                                              .value_counts()\n",
    "\n",
    "countries_with_most_successful_reservings"
   ]
  },
  {
   "cell_type": "code",
   "execution_count": 30,
   "id": "365b99c8-1469-4fe4-8dda-aba8029984ba",
   "metadata": {},
   "outputs": [
    {
     "data": {
      "text/html": [
       "<div>\n",
       "<style scoped>\n",
       "    .dataframe tbody tr th:only-of-type {\n",
       "        vertical-align: middle;\n",
       "    }\n",
       "\n",
       "    .dataframe tbody tr th {\n",
       "        vertical-align: top;\n",
       "    }\n",
       "\n",
       "    .dataframe thead th {\n",
       "        text-align: right;\n",
       "    }\n",
       "</style>\n",
       "<table border=\"1\" class=\"dataframe\">\n",
       "  <thead>\n",
       "    <tr style=\"text-align: right;\">\n",
       "      <th></th>\n",
       "      <th>hotel</th>\n",
       "      <th>stays_total_nights</th>\n",
       "    </tr>\n",
       "  </thead>\n",
       "  <tbody>\n",
       "    <tr>\n",
       "      <th>0</th>\n",
       "      <td>City Hotel</td>\n",
       "      <td>2.98</td>\n",
       "    </tr>\n",
       "    <tr>\n",
       "      <th>1</th>\n",
       "      <td>Resort Hotel</td>\n",
       "      <td>4.32</td>\n",
       "    </tr>\n",
       "  </tbody>\n",
       "</table>\n",
       "</div>"
      ],
      "text/plain": [
       "          hotel  stays_total_nights\n",
       "0    City Hotel                2.98\n",
       "1  Resort Hotel                4.32"
      ]
     },
     "execution_count": 30,
     "metadata": {},
     "output_type": "execute_result"
    }
   ],
   "source": [
    "# На сколько ночей в среднем бронируют отели разных типов?\n",
    "\n",
    "average_night_for_hotel_types = df.groupby(\"hotel\", as_index=False).agg({'stays_total_nights':'mean'}).round(2)\n",
    "average_night_for_hotel_types"
   ]
  },
  {
   "cell_type": "code",
   "execution_count": 33,
   "id": "83d9162f-f203-4ed4-b187-19151612dc7c",
   "metadata": {},
   "outputs": [
    {
     "data": {
      "text/plain": [
       "14917"
      ]
     },
     "execution_count": 33,
     "metadata": {},
     "output_type": "execute_result"
    }
   ],
   "source": [
    "# Иногда тип номера, полученного клиентом (assigned_room_type), отличается от изначально забронированного (reserved_room_type). \n",
    "# Сколько подобных наблюдений встретилось?\n",
    "\n",
    "count_difference_beetwen_reserved_assigned_room_type = df.query(\"reserved_room_type != assigned_room_type\").shape[0]\n",
    "count_difference_beetwen_reserved_assigned_room_type"
   ]
  },
  {
   "cell_type": "code",
   "execution_count": 76,
   "id": "7fbdf870-9584-424e-a024-c93e8e6f7062",
   "metadata": {},
   "outputs": [
    {
     "name": "stdout",
     "output_type": "stream",
     "text": [
      "Most popular month was changed: 2016 - October, 2017 - July\n"
     ]
    }
   ],
   "source": [
    "# Проанализируйте даты запланированного прибытия. \n",
    "# – На какой месяц чаще всего успешно(т.е. бронирования не отменялись) оформляли бронь в 2016? Изменился ли самый популярный месяц в 2017?\n",
    "# – Сгруппируйте данные по годам и проверьте, на какой месяц бронирования отеля типа City Hotel отменялись чаще всего в каждый из периодов\n",
    "\n",
    "count_success_bookings_per_month = df.query(\"is_canceled == 0\"). \\\n",
    "                            groupby([\"arrival_date_month\", \"arrival_date_year\"], as_index=False). \\\n",
    "                            agg({\"is_canceled\": \"count\"}). \\\n",
    "                            sort_values(\"arrival_date_year\", ascending=False)\n",
    "\n",
    "\n",
    "most_popular_month_2016 = count_success_bookings_per_month.query(\"arrival_date_year == 2016\").iloc[0][\"arrival_date_month\"]\n",
    "most_popular_month_2017 = count_success_bookings_per_month.query(\"arrival_date_year == 2017\").iloc[0][\"arrival_date_month\"]\n",
    "\n",
    "if most_popular_month_2016 != most_popular_month_2017:\n",
    "    print(f\"Most popular month was changed: 2016 - {most_popular_month_2016}, 2017 - {most_popular_month_2017}\")\n",
    "else:\n",
    "    print(f\"Most popular month has not changed in relation to 2017: {most_popular_month_2017}\")"
   ]
  },
  {
   "cell_type": "code",
   "execution_count": 90,
   "id": "914faa73-4874-4f77-9445-f2a20341864e",
   "metadata": {},
   "outputs": [
    {
     "name": "stdout",
     "output_type": "stream",
     "text": [
      "The dataframe change was successful\n"
     ]
    },
    {
     "data": {
      "text/plain": [
       "hotel         Resort Hotel\n",
       "total_kids            0.14\n",
       "dtype: object"
      ]
     },
     "execution_count": 90,
     "metadata": {},
     "output_type": "execute_result"
    }
   ],
   "source": [
    "# Создайте колонку total_kids, объединив children и babies. Отели какого типа в среднем пользуются большей популярностью у клиентов с детьми?\n",
    "df[\"total_kids\"] = df[\"children\"] + df[\"babies\"]\n",
    "if all_reservings == df.shape[0]:\n",
    "    print(\"The dataframe change was successful\")\n",
    "\n",
    "mean_reservings_with_kids_by_hotel_types = df.groupby(\"hotel\", as_index=False).agg({\"total_kids\": \"mean\"}).round(2).max()\n",
    "mean_reservings_with_kids_by_hotel_types"
   ]
  },
  {
   "cell_type": "code",
   "execution_count": 104,
   "id": "77bf0c1d-0d1f-4bec-ad48-bfe6fcb38087",
   "metadata": {},
   "outputs": [
    {
     "name": "stdout",
     "output_type": "stream",
     "text": [
      "The dataframe change was successful\n"
     ]
    },
    {
     "data": {
      "text/plain": [
       "34.92"
      ]
     },
     "execution_count": 104,
     "metadata": {},
     "output_type": "execute_result"
    }
   ],
   "source": [
    "# Создайте переменную has_kids, которая принимает значение True, если клиент при бронировании указал хотя бы одного ребенка (total_kids),\n",
    "# в противном случае – False. Посчитайте отношение количества ушедших пользователей к общему количеству клиентов, выраженное в процентах (churn rate).\n",
    "# Укажите, среди какой группы показатель выше.\n",
    "\n",
    "df[\"has_kids\"] = df[\"total_kids\"] > 0\n",
    "if all_reservings == df.shape[0]:\n",
    "    print(\"The dataframe change was successful\")\n",
    "\n",
    "churn_rate_with_kids = df.query(\"is_canceled == 1 and has_kids == True\").shape[0] / df.query(\"has_kids == True\").shape[0]\n",
    "churn_rate_with_kids = round(churn_rate_with_kids * 100, 2)\n",
    "churn_rate_with_kids"
   ]
  }
 ],
 "metadata": {
  "kernelspec": {
   "display_name": "Python 3 (ipykernel)",
   "language": "python",
   "name": "python3"
  },
  "language_info": {
   "codemirror_mode": {
    "name": "ipython",
    "version": 3
   },
   "file_extension": ".py",
   "mimetype": "text/x-python",
   "name": "python",
   "nbconvert_exporter": "python",
   "pygments_lexer": "ipython3",
   "version": "3.11.4"
  }
 },
 "nbformat": 4,
 "nbformat_minor": 5
}
